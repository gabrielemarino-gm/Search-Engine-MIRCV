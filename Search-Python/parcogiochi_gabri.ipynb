{
 "cells": [
  {
   "cell_type": "code",
   "execution_count": 5,
   "id": "initial_id",
   "metadata": {
    "collapsed": true,
    "is_executing": true
   },
   "outputs": [],
   "source": [
    "# Nome del file di input TSV\n",
    "file_input = \"../collection.tsv\"\n",
    "\n",
    "# Nome del file di output TSV\n",
    "file_output = \"../mini_collection.tsv\"\n",
    "\n",
    "# Apri il file di input in modalità di lettura\n",
    "with open(file_input, 'r', encoding='utf-8') as input_file:\n",
    "    # Leggi le prime 1000 righe dal file di input\n",
    "    prime_1000_righe = [next(input_file) for _ in range(1000)]\n",
    "\n",
    "# Apri il file di output in modalità di scrittura\n",
    "with open(file_output, 'w', encoding='utf-8') as output_file:\n",
    "    # Scrivi le prime 1000 righe nel file di output\n",
    "    output_file.writelines(prime_1000_righe)"
   ]
  },
  {
   "cell_type": "code",
   "execution_count": 6,
   "id": "45aa7d0b",
   "metadata": {},
   "outputs": [
    {
     "name": "stdout",
     "output_type": "stream",
     "text": [
      "[0, 1, 2, 3, 4, 5, 6, 7, 8, 9, 10, 11, 12, 13, 14, 15, 16, 17, 18, 19, 20, 21, 22, 23, 24, 25, 26, 27, 28, 29, 30, 31, 32, 33, 34, 35, 36, 37, 38, 39, 40, 41, 42, 43, 44, 45, 46, 47, 48, 49, 50, 51, 52, 53, 54, 55, 56, 57, 58, 59, 60, 61, 62, 63, 64, 65, 66, 67, 68, 69, 70, 71, 72, 73, 74, 75, 76, 77, 78, 79, 80, 81, 82, 83, 84, 85, 86, 87, 88, 89, 90, 91, 92, 93, 94, 95, 96, 97, 98, 99]\n",
      "\n",
      "Primi 10 interi dal file binario: [2147784141, 0, 93, 2485668608, 1258375938, 1258507012, 1258638086, 1258769160, 1258900234, 1259031308]\n"
     ]
    }
   ],
   "source": [
    "import struct\n",
    "\n",
    "docs_list = []\n",
    "for i in range(100):\n",
    "    docs_list.append(i)\n",
    "\n",
    "print(docs_list, end=\"\\n\\n\")\n",
    "\n",
    "with open(\"../oggetto.bin\", \"wb\") as file_binario: \n",
    "    pickle.dump(docs_list, file_binario)\n",
    "\n",
    "# Apri il file binario in modalità di lettura binaria (\"rb\")\n",
    "with open(\"../oggetto.bin\", \"rb\") as file_binario:\n",
    "    # Leggi i primi 10 interi dal file\n",
    "    primi_10_interi = []\n",
    "    for i in range(10):\n",
    "        dati = file_binario.read(4)  # Leggi 4 byte (un intero)\n",
    "        if not dati:\n",
    "            break  # Fine del file\n",
    "        numero_intero = struct.unpack(\">I\", dati)[0]  # Interpretazione dell'intero\n",
    "        primi_10_interi.append(numero_intero)\n",
    "\n",
    "print(\"Primi 10 interi dal file binario:\", primi_10_interi)\n"
   ]
  },
  {
   "cell_type": "code",
   "execution_count": 2,
   "id": "6bedf143",
   "metadata": {},
   "outputs": [],
   "source": [
    "from ast import Dict, List\n",
    "import random\n",
    "import pickle\n",
    "\n",
    "class Posting:\n",
    "    \"\"\"\n",
    "    One Posting\n",
    "    Composed by a doc_id and term frequency on that document\n",
    "    \"\"\"\n",
    "    def __init__(self, doc_id: int) -> None:\n",
    "        self.doc_id = doc_id\n",
    "        self.count = 1\n",
    "\n",
    "    def get_doc_id(self) -> int:\n",
    "        return self.doc_id\n",
    "\n",
    "    def increment(self) -> None:\n",
    "        self.count += 1\n",
    "\n",
    "    def __str__(self) -> str:\n",
    "        return f'({self.doc_id}:{self.count})'\n",
    "\n",
    "class PostingList:\n",
    "    \"\"\"\n",
    "    The data structure rappresenting an entire posting list for one term.\n",
    "    Composed by the term and Posting\n",
    "    \"\"\"\n",
    "    def __init__(self, t: str, pl: List(Posting)) -> None:\n",
    "        self.term = t\n",
    "        self.posting_list = pl\n",
    "        self.offset = 0\n",
    "    \n",
    "    def set_offset(self, o: int):\n",
    "        self.offset = o\n",
    "    \n",
    "    def __str__(self) -> str:\n",
    "        ret = self.term + \": \"\n",
    "        for p in self.posting_list:\n",
    "            ret += str(p)\n",
    "        return ret"
   ]
  },
  {
   "cell_type": "code",
   "execution_count": 39,
   "id": "967c1adc",
   "metadata": {},
   "outputs": [
    {
     "name": "stdout",
     "output_type": "stream",
     "text": [
      "56 Byte with 10 docs\n",
      "56 Byte with 1 docs\n",
      "56 Byte with 1 docs\n",
      "56 Byte with 4 docs\n",
      "56 Byte with 2 docs\n",
      "56 Byte with 5 docs\n",
      "56 Byte with 10 docs\n"
     ]
    }
   ],
   "source": [
    "import sys\n",
    "from typing import Dict, List\n",
    "\n",
    "write = True\n",
    "# Esempio di definizione dei tipi dei dati\n",
    "terms: List[str] = [\"aaa\", \"bbb\", \"ccc\", \"ddd\", \"eee\", \"fff\", \"ggg\"]\n",
    "posting_list: List[Posting] = []\n",
    "# Esempio di inizializzazione del dizionario\n",
    "for term in terms:\n",
    "    nposting = random.randint(1, 10)\n",
    "    for i in range(nposting):\n",
    "        posting_list.append(Posting(i))\n",
    "    \n",
    "    #print(PostingList(term, posting_list))\n",
    "    print(sys.getsizeof(PostingList(term, posting_list)), end=\"\")\n",
    "    print(f\" Byte with {nposting} docs\")\n",
    "\n",
    "    if write:\n",
    "        with open(\"../oggetto.bin\", \"wb\") as file_binario:\n",
    "                file_binario.write(b\"\")\n",
    "        with open(\"../oggetto.bin\", \"ab\") as file_binario:\n",
    "            pickle.dump(PostingList(term, posting_list), file_binario)\n",
    "            file_binario.tell()\n",
    "\n",
    "            "
   ]
  },
  {
   "cell_type": "code",
   "execution_count": 34,
   "id": "2fa24b39",
   "metadata": {},
   "outputs": [
    {
     "name": "stdout",
     "output_type": "stream",
     "text": [
      "28 Byte with 3 docs\n",
      "1 2 3 4 5 6 7 8 9 "
     ]
    }
   ],
   "source": [
    "import sys\n",
    "from typing import Dict, List\n",
    "\n",
    "\n",
    "with open(\"../oggetto.bin\", \"wb\") as file_binario:\n",
    "                file_binario.write(b\"\")\n",
    "\n",
    "i=0\n",
    "print(sys.getsizeof(i), end=\"\")\n",
    "print(f\" Byte with {nposting} docs\")\n",
    "\n",
    "for i in range(1, 10):\n",
    "    print(f\"{i} \", end=\"\")\n",
    "    with open(\"../oggetto.bin\", \"ab\") as file_binario:\n",
    "        pickle.dump(i, file_binario)   "
   ]
  },
  {
   "cell_type": "code",
   "execution_count": null,
   "id": "5bc4c8ca",
   "metadata": {},
   "outputs": [],
   "source": [
    "import pickle\n",
    "\n",
    "# Apri il file binario in modalità di lettura binaria (\"rb\")\n",
    "with open(\"../oggetto.bin\", 'rb') as file:\n",
    "    # Leggi esattamente LENINBYTES byte dal file\n",
    "    dati_binari = file.read(LENINBYTES)\n",
    "    a = pickle.loads(dati_binari)\n",
    "    print(a)\n",
    "    file.seek(LENINBYTES+1)\n",
    "\n",
    "    dati_binari = file.read(LENINBYTES)\n",
    "    a = pickle.loads(dati_binari)\n",
    "    print(a)\n"
   ]
  },
  {
   "cell_type": "code",
   "execution_count": 38,
   "id": "3e0ad9da",
   "metadata": {},
   "outputs": [
    {
     "name": "stdout",
     "output_type": "stream",
     "text": [
      "159\n",
      "[[<__main__.Posting object at 0x2c5ff6190>, <__main__.Posting object at 0x2c5ff6ed0>, <__main__.Posting object at 0x2c5ff58d0>, <__main__.Posting object at 0x2d6519e10>, <__main__.Posting object at 0x2c5ff6590>, <__main__.Posting object at 0x2c5ff6b90>]]\n",
      "[[<__main__.Posting object at 0x2c5ff7050>, <__main__.Posting object at 0x2c5ff7150>, <__main__.Posting object at 0x2c5ff7210>, <__main__.Posting object at 0x288a84210>, <__main__.Posting object at 0x2c5ff6490>]]\n"
     ]
    }
   ],
   "source": [
    "a = [Posting(1), Posting(2), Posting(3), Posting(5), Posting(255), Posting(256)]\n",
    "b = [Posting(3), Posting(9), Posting(11), Posting(12), Posting(128)]\n",
    "\n",
    "with open('./data.bin', 'wb') as f:\n",
    "    pickle.dump(a,f)\n",
    "    print(f.tell())\n",
    "    offset1 = f.tell()\n",
    "    pickle.dump(b,f)\n",
    "    offset2 = f.tell()\n",
    "\n",
    "r1 = []\n",
    "r2 = []\n",
    "with open('./data.bin', 'rb') as f:\n",
    "    bstream = io.BytesIO(f.read(offset1))\n",
    "    r1.append(pickle.load(bstream))\n",
    "    bstream = io.BytesIO(f.read(offset2))\n",
    "    r2.append(pickle.load(bstream))\n",
    "\n",
    "print(r1)\n",
    "print(r2)"
   ]
  }
 ],
 "metadata": {
  "kernelspec": {
   "display_name": "Python 3",
   "language": "python",
   "name": "python3"
  },
  "language_info": {
   "codemirror_mode": {
    "name": "ipython",
    "version": 3
   },
   "file_extension": ".py",
   "mimetype": "text/x-python",
   "name": "python",
   "nbconvert_exporter": "python",
   "pygments_lexer": "ipython3",
   "version": "3.11.4"
  }
 },
 "nbformat": 4,
 "nbformat_minor": 5
}
