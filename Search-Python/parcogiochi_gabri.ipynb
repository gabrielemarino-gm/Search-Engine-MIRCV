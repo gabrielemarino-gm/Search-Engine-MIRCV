{
 "cells": [
  {
   "cell_type": "code",
   "execution_count": 37,
   "id": "62979110",
   "metadata": {},
   "outputs": [],
   "source": [
    "import sys\n",
    "from typing import Dict, List\n",
    "import random\n",
    "import pickle\n",
    "import io"
   ]
  },
  {
   "cell_type": "code",
   "execution_count": 5,
   "id": "initial_id",
   "metadata": {
    "collapsed": true,
    "is_executing": true
   },
   "outputs": [],
   "source": [
    "# Nome del file di input TSV\n",
    "file_input = \"../collection.tsv\"\n",
    "\n",
    "# Nome del file di output TSV\n",
    "file_output = \"../mini_collection.tsv\"\n",
    "\n",
    "# Apri il file di input in modalità di lettura\n",
    "with open(file_input, 'r', encoding='utf-8') as input_file:\n",
    "    # Leggi le prime 1000 righe dal file di input\n",
    "    prime_1000_righe = [next(input_file) for _ in range(1000)]\n",
    "\n",
    "# Apri il file di output in modalità di scrittura\n",
    "with open(file_output, 'w', encoding='utf-8') as output_file:\n",
    "    # Scrivi le prime 1000 righe nel file di output\n",
    "    output_file.writelines(prime_1000_righe)"
   ]
  },
  {
   "cell_type": "code",
   "execution_count": 6,
   "id": "45aa7d0b",
   "metadata": {},
   "outputs": [
    {
     "name": "stdout",
     "output_type": "stream",
     "text": [
      "[0, 1, 2, 3, 4, 5, 6, 7, 8, 9, 10, 11, 12, 13, 14, 15, 16, 17, 18, 19, 20, 21, 22, 23, 24, 25, 26, 27, 28, 29, 30, 31, 32, 33, 34, 35, 36, 37, 38, 39, 40, 41, 42, 43, 44, 45, 46, 47, 48, 49, 50, 51, 52, 53, 54, 55, 56, 57, 58, 59, 60, 61, 62, 63, 64, 65, 66, 67, 68, 69, 70, 71, 72, 73, 74, 75, 76, 77, 78, 79, 80, 81, 82, 83, 84, 85, 86, 87, 88, 89, 90, 91, 92, 93, 94, 95, 96, 97, 98, 99]\n",
      "\n",
      "Primi 10 interi dal file binario: [2147784141, 0, 93, 2485668608, 1258375938, 1258507012, 1258638086, 1258769160, 1258900234, 1259031308]\n"
     ]
    }
   ],
   "source": [
    "import struct\n",
    "\n",
    "docs_list = []\n",
    "for i in range(100):\n",
    "    docs_list.append(i)\n",
    "\n",
    "print(docs_list, end=\"\\n\\n\")\n",
    "\n",
    "with open(\"../oggetto.bin\", \"wb\") as file_binario: \n",
    "    pickle.dump(docs_list, file_binario)\n",
    "\n",
    "# Apri il file binario in modalità di lettura binaria (\"rb\")\n",
    "with open(\"../oggetto.bin\", \"rb\") as file_binario:\n",
    "    # Leggi i primi 10 interi dal file\n",
    "    primi_10_interi = []\n",
    "    for i in range(10):\n",
    "        dati = file_binario.read(4)  # Leggi 4 byte (un intero)\n",
    "        if not dati:\n",
    "            break  # Fine del file\n",
    "        numero_intero = struct.unpack(\">I\", dati)[0]  # Interpretazione dell'intero\n",
    "        primi_10_interi.append(numero_intero)\n",
    "\n",
    "print(\"Primi 10 interi dal file binario:\", primi_10_interi)\n"
   ]
  },
  {
   "cell_type": "code",
   "execution_count": 34,
   "id": "6bedf143",
   "metadata": {},
   "outputs": [],
   "source": [
    "class Posting:\n",
    "    \"\"\"\n",
    "    One Posting\n",
    "    Composed by a doc_id and term frequency on that document\n",
    "    \"\"\"\n",
    "    def __init__(self, doc_id: int) -> None:\n",
    "        self.doc_id = doc_id\n",
    "        self.count = 1\n",
    "\n",
    "    def get_doc_id(self) -> int:\n",
    "        return self.doc_id\n",
    "\n",
    "    def increment(self) -> None:\n",
    "        self.count += 1\n",
    "\n",
    "    def __str__(self) -> str:\n",
    "        return f'({self.doc_id}:{self.count})'\n",
    "\n",
    "class PostingList:\n",
    "    \"\"\"\n",
    "    The data structure rappresenting an entire posting list for one term.\n",
    "    Composed by the term and Posting\n",
    "    \"\"\"\n",
    "    def __init__(self, t: str, pl: List(Posting)) -> None:\n",
    "        self.term = t\n",
    "        self.posting_list = pl\n",
    "        self.offset = 0\n",
    "    \n",
    "    def set_offset(self, o: int):\n",
    "        self.offset = o\n",
    "    \n",
    "    def __str__(self) -> str:\n",
    "        ret = self.term + \": \"\n",
    "        for p in self.posting_list:\n",
    "            ret += str(p)\n",
    "        return ret"
   ]
  },
  {
   "cell_type": "code",
   "execution_count": 4,
   "id": "967c1adc",
   "metadata": {},
   "outputs": [
    {
     "ename": "NameError",
     "evalue": "name 'Posting' is not defined",
     "output_type": "error",
     "traceback": [
      "\u001b[0;31m---------------------------------------------------------------------------\u001b[0m",
      "\u001b[0;31mNameError\u001b[0m                                 Traceback (most recent call last)",
      "\u001b[1;32m/Users/gabriele/Desktop/Università/Secondo Anno/Multimidia Information Retrival and Computer Vision/Project/Search-Engine-MIRCV/Search-Python/parcogiochi_gabri.ipynb Cella 4\u001b[0m line \u001b[0;36m7\n\u001b[1;32m      <a href='vscode-notebook-cell:/Users/gabriele/Desktop/Universita%CC%80/Secondo%20Anno/Multimidia%20Information%20Retrival%20and%20Computer%20Vision/Project/Search-Engine-MIRCV/Search-Python/parcogiochi_gabri.ipynb#W3sZmlsZQ%3D%3D?line=4'>5</a>\u001b[0m \u001b[39m# Esempio di definizione dei tipi dei dati\u001b[39;00m\n\u001b[1;32m      <a href='vscode-notebook-cell:/Users/gabriele/Desktop/Universita%CC%80/Secondo%20Anno/Multimidia%20Information%20Retrival%20and%20Computer%20Vision/Project/Search-Engine-MIRCV/Search-Python/parcogiochi_gabri.ipynb#W3sZmlsZQ%3D%3D?line=5'>6</a>\u001b[0m terms: List[\u001b[39mstr\u001b[39m] \u001b[39m=\u001b[39m [\u001b[39m\"\u001b[39m\u001b[39maaa\u001b[39m\u001b[39m\"\u001b[39m, \u001b[39m\"\u001b[39m\u001b[39mbbb\u001b[39m\u001b[39m\"\u001b[39m, \u001b[39m\"\u001b[39m\u001b[39mccc\u001b[39m\u001b[39m\"\u001b[39m, \u001b[39m\"\u001b[39m\u001b[39mddd\u001b[39m\u001b[39m\"\u001b[39m, \u001b[39m\"\u001b[39m\u001b[39meee\u001b[39m\u001b[39m\"\u001b[39m, \u001b[39m\"\u001b[39m\u001b[39mfff\u001b[39m\u001b[39m\"\u001b[39m, \u001b[39m\"\u001b[39m\u001b[39mggg\u001b[39m\u001b[39m\"\u001b[39m]\n\u001b[0;32m----> <a href='vscode-notebook-cell:/Users/gabriele/Desktop/Universita%CC%80/Secondo%20Anno/Multimidia%20Information%20Retrival%20and%20Computer%20Vision/Project/Search-Engine-MIRCV/Search-Python/parcogiochi_gabri.ipynb#W3sZmlsZQ%3D%3D?line=6'>7</a>\u001b[0m posting_list: List[Posting] \u001b[39m=\u001b[39m []\n\u001b[1;32m      <a href='vscode-notebook-cell:/Users/gabriele/Desktop/Universita%CC%80/Secondo%20Anno/Multimidia%20Information%20Retrival%20and%20Computer%20Vision/Project/Search-Engine-MIRCV/Search-Python/parcogiochi_gabri.ipynb#W3sZmlsZQ%3D%3D?line=7'>8</a>\u001b[0m \u001b[39m# Esempio di inizializzazione del dizionario\u001b[39;00m\n\u001b[1;32m      <a href='vscode-notebook-cell:/Users/gabriele/Desktop/Universita%CC%80/Secondo%20Anno/Multimidia%20Information%20Retrival%20and%20Computer%20Vision/Project/Search-Engine-MIRCV/Search-Python/parcogiochi_gabri.ipynb#W3sZmlsZQ%3D%3D?line=8'>9</a>\u001b[0m \u001b[39mfor\u001b[39;00m term \u001b[39min\u001b[39;00m terms:\n",
      "\u001b[0;31mNameError\u001b[0m: name 'Posting' is not defined"
     ]
    }
   ],
   "source": [
    "import sys\n",
    "from typing import Dict, List\n",
    "\n",
    "write = True\n",
    "# Esempio di definizione dei tipi dei dati\n",
    "terms: List[str] = [\"aaa\", \"bbb\", \"ccc\", \"ddd\", \"eee\", \"fff\", \"ggg\"]\n",
    "posting_list: List[Posting] = []\n",
    "# Esempio di inizializzazione del dizionario\n",
    "for term in terms:\n",
    "    nposting = random.randint(1, 10)\n",
    "    for i in range(nposting):\n",
    "        posting_list.append(Posting(i))\n",
    "    \n",
    "    #print(PostingList(term, posting_list))\n",
    "    print(sys.getsizeof(PostingList(term, posting_list)), end=\"\")\n",
    "    print(f\" Byte with {nposting} docs\")\n",
    "\n",
    "    if write:\n",
    "        with open(\"../oggetto.bin\", \"wb\") as file_binario:\n",
    "                file_binario.write(b\"\")\n",
    "        with open(\"../oggetto.bin\", \"ab\") as file_binario:\n",
    "            pickle.dump(PostingList(term, posting_list), file_binario)\n",
    "            file_binario.tell()       "
   ]
  },
  {
   "cell_type": "code",
   "execution_count": 55,
   "id": "2fa24b39",
   "metadata": {},
   "outputs": [
    {
     "name": "stdout",
     "output_type": "stream",
     "text": [
      "9: \n",
      "28 Byte per sys.getsizeof\n",
      "5 Offset reale\n",
      "\n",
      "99999: \n",
      "28 Byte per sys.getsizeof\n",
      "17 Offset reale\n",
      "\n",
      "999999999: \n",
      "28 Byte per sys.getsizeof\n",
      "17 Offset reale\n",
      "\n",
      "9999999999: \n",
      "32 Byte per sys.getsizeof\n",
      "19 Offset reale\n",
      "\n"
     ]
    }
   ],
   "source": [
    "with open(\"../../oggetto.bin\", \"wb\") as file_binario:\n",
    "    file_binario.write(b\"\")\n",
    "\n",
    "i = 9\n",
    "print(f\"{i}: \")\n",
    "print(sys.getsizeof(i), end=\"\")\n",
    "print(f\" Byte per sys.getsizeof\")\n",
    "with open(\"../../oggetto.bin\", \"wb\") as file_binario:\n",
    "    pickle.dump(i, file_binario)\n",
    "    print(file_binario.tell(), end=\"\")\n",
    "    print(f\" Offset reale\", end=\"\\n\\n\")\n",
    "\n",
    "i = 99999\n",
    "print(f\"{i}: \")\n",
    "print(sys.getsizeof(i), end=\"\")\n",
    "print(f\" Byte per sys.getsizeof\")\n",
    "with open(\"../../oggetto.bin\", \"wb\") as file_binario:\n",
    "    pickle.dump(i, file_binario)\n",
    "    print(file_binario.tell(), end=\"\")\n",
    "    print(f\" Offset reale\", end=\"\\n\\n\")\n",
    "\n",
    "\n",
    "i = 999999999\n",
    "print(f\"{i}: \")\n",
    "print(sys.getsizeof(i), end=\"\")\n",
    "print(f\" Byte per sys.getsizeof\")\n",
    "with open(\"../../oggetto.bin\", \"wb\") as file_binario:\n",
    "    pickle.dump(i, file_binario)\n",
    "    print(file_binario.tell(), end=\"\")\n",
    "    print(f\" Offset reale\", end=\"\\n\\n\")\n",
    "\n",
    "\n",
    "i = 9999999999\n",
    "print(f\"{i}: \")\n",
    "print(sys.getsizeof(i), end=\"\")\n",
    "print(f\" Byte per sys.getsizeof\")\n",
    "with open(\"../../oggetto.bin\", \"wb\") as file_binario:\n",
    "    pickle.dump(i, file_binario)\n",
    "    print(file_binario.tell(), end=\"\")\n",
    "    print(f\" Offset reale\", end=\"\\n\\n\")"
   ]
  },
  {
   "cell_type": "code",
   "execution_count": null,
   "id": "3c3ce6de",
   "metadata": {},
   "outputs": [],
   "source": [
    "with open('../../oggetto.bin', 'rb') as f:\n",
    "    while(True):\n",
    "        bstream = io.BytesIO(f.read(28))\n",
    "        print(bstream)\n",
    "        if not bstream:\n",
    "            break"
   ]
  },
  {
   "cell_type": "code",
   "execution_count": null,
   "id": "5bc4c8ca",
   "metadata": {},
   "outputs": [],
   "source": [
    "import pickle\n",
    "\n",
    "# Apri il file binario in modalità di lettura binaria (\"rb\")\n",
    "with open(\"../oggetto.bin\", 'rb') as file:\n",
    "    # Leggi esattamente LENINBYTES byte dal file\n",
    "    dati_binari = file.read(LENINBYTES)\n",
    "    a = pickle.loads(dati_binari)\n",
    "    print(a)\n",
    "    file.seek(LENINBYTES+1)\n",
    "\n",
    "    dati_binari = file.read(LENINBYTES)\n",
    "    a = pickle.loads(dati_binari)\n",
    "    print(a)\n"
   ]
  },
  {
   "cell_type": "code",
   "execution_count": 40,
   "id": "3e0ad9da",
   "metadata": {},
   "outputs": [
    {
     "name": "stdout",
     "output_type": "stream",
     "text": [
      "96 Byte\n",
      "140 280\n",
      "[[<__main__.Posting object at 0x1077a5610>, <__main__.Posting object at 0x1077ac8d0>, <__main__.Posting object at 0x1077af6d0>, <__main__.Posting object at 0x1077a4c90>, <__main__.Posting object at 0x1077ac190>]]\n",
      "[[<__main__.Posting object at 0x1077ac690>, <__main__.Posting object at 0x1077968d0>, <__main__.Posting object at 0x107797e90>, <__main__.Posting object at 0x1077d2f10>, <__main__.Posting object at 0x107795350>]]\n"
     ]
    }
   ],
   "source": [
    "a = [Posting(1), Posting(2), Posting(3), Posting(5), Posting(255)]\n",
    "b = [Posting(3), Posting(9), Posting(11), Posting(12), Posting(128)]\n",
    "\n",
    "print(sys.getsizeof(a), end=\"\")\n",
    "print(f\" Byte\")\n",
    "\n",
    "with open('../../oggetto.bin', 'wb') as f:\n",
    "    pickle.dump(a,f)\n",
    "    offset1 = f.tell()\n",
    "    pickle.dump(b,f)\n",
    "    offset2 = f.tell()\n",
    "\n",
    "print(offset1, offset2)\n",
    "\n",
    "r1 = []\n",
    "r2 = []\n",
    "with open('../../oggetto.bin', 'rb') as f:\n",
    "    bstream = io.BytesIO(f.read(offset1))\n",
    "    r1.append(pickle.load(bstream))\n",
    "    bstream = io.BytesIO(f.read(offset2))\n",
    "    r2.append(pickle.load(bstream))\n",
    "\n",
    "print(r1)\n",
    "print(r2)"
   ]
  },
  {
   "cell_type": "code",
   "execution_count": 60,
   "id": "dbcb10fe",
   "metadata": {},
   "outputs": [
    {
     "name": "stdout",
     "output_type": "stream",
     "text": [
      "(5,)\n",
      "(22,)\n",
      "(10000,)\n",
      "(8000000,)\n"
     ]
    }
   ],
   "source": [
    "import struct\n",
    "\n",
    "with open('../../data.bin', 'wb') as f:\n",
    "    pickle.dump(struct.pack('Q',5), f)\n",
    "    pickle.dump(struct.pack('Q',22), f)\n",
    "    pickle.dump(struct.pack('Q',10000), f)\n",
    "    pickle.dump(struct.pack('Q',8000000), f)\n",
    "\n",
    "with open('../../data.bin', 'rb') as f:\n",
    "    print(struct.unpack('Q',pickle.load(io.BytesIO(f.read(23)))))\n",
    "    print(struct.unpack('Q',pickle.load(io.BytesIO(f.read(23)))))\n",
    "    print(struct.unpack('Q',pickle.load(io.BytesIO(f.read(23)))))\n",
    "    print(struct.unpack('Q',pickle.load(io.BytesIO(f.read(23)))))\n"
   ]
  }
 ],
 "metadata": {
  "kernelspec": {
   "display_name": "Python 3",
   "language": "python",
   "name": "python3"
  },
  "language_info": {
   "codemirror_mode": {
    "name": "ipython",
    "version": 3
   },
   "file_extension": ".py",
   "mimetype": "text/x-python",
   "name": "python",
   "nbconvert_exporter": "python",
   "pygments_lexer": "ipython3",
   "version": "3.11.4"
  }
 },
 "nbformat": 4,
 "nbformat_minor": 5
}
