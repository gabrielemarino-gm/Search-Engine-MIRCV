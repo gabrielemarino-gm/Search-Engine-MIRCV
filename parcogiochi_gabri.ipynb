{
 "cells": [
  {
   "cell_type": "code",
   "execution_count": 5,
   "id": "initial_id",
   "metadata": {
    "collapsed": true,
    "is_executing": true
   },
   "outputs": [],
   "source": [
    "# Nome del file di input TSV\n",
    "file_input = \"../collection.tsv\"\n",
    "\n",
    "# Nome del file di output TSV\n",
    "file_output = \"../mini_collection.tsv\"\n",
    "\n",
    "# Apri il file di input in modalità di lettura\n",
    "with open(file_input, 'r', encoding='utf-8') as input_file:\n",
    "    # Leggi le prime 1000 righe dal file di input\n",
    "    prime_1000_righe = [next(input_file) for _ in range(1000)]\n",
    "\n",
    "# Apri il file di output in modalità di scrittura\n",
    "with open(file_output, 'w', encoding='utf-8') as output_file:\n",
    "    # Scrivi le prime 1000 righe nel file di output\n",
    "    output_file.writelines(prime_1000_righe)\n",
    "\n",
    "            "
   ]
  }
 ],
 "metadata": {
  "kernelspec": {
   "display_name": "Python 3",
   "language": "python",
   "name": "python3"
  },
  "language_info": {
   "codemirror_mode": {
    "name": "ipython",
    "version": 3
   },
   "file_extension": ".py",
   "mimetype": "text/x-python",
   "name": "python",
   "nbconvert_exporter": "python",
   "pygments_lexer": "ipython3",
   "version": "3.11.4"
  }
 },
 "nbformat": 4,
 "nbformat_minor": 5
}
