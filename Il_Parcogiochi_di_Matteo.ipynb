{
 "cells": [
  {
   "cell_type": "code",
   "execution_count": 47,
   "metadata": {},
   "outputs": [],
   "source": [
    "# Pacchetti esterni\n",
    "from typing import List, Dict\n",
    "\n",
    "import re\n",
    "\n",
    "# Variabili globali\n",
    "DATA_PATH = 'data/collection.tsv'\n",
    "\n",
    "# In generale, per ogni riga del file, devo dividerla in docid - corpo\n",
    "# Successivamente il corpo va preprocessato (Token, Stemming, Stopwords, eccetera eccetera)"
   ]
  },
  {
   "cell_type": "code",
   "execution_count": 48,
   "metadata": {},
   "outputs": [
    {
     "name": "stdout",
     "output_type": "stream",
     "text": [
      "[0, 'The presence of communication amid scientific minds was equally important to the success of the Manhattan Project as scientific intellect was. The only cloud hanging over the impressive achievement of the atomic researchers and engineers is what their success truly meant; hundreds of thousands of innocent lives obliterated.\\n']\n",
      "[1, 'The Manhattan Project and its atomic bomb helped bring an end to World War II. Its legacy of peaceful uses of atomic energy continues to have an impact on history and science.\\n']\n",
      "[2, 'Essay on The Manhattan Project - The Manhattan Project The Manhattan Project was to see if making an atomic bomb possible. The success of this project would forever change the world forever making it known that something this powerful can be manmade.\\n']\n"
     ]
    }
   ],
   "source": [
    "i = 0\n",
    "# Ciclo che legge una riga del file alla volta\n",
    "# Sperando le divinita greche che non carichi il file in ram tutto insieme\n",
    "firstList = list()\n",
    "for line in open(DATA_PATH, \"r\", encoding=\"utf-8\"):\n",
    "    # tsv sta per tabSeparatedValues, quindi splitto per tab (\\t)\n",
    "    tmp = line.split('\\t')\n",
    "\n",
    "    # Converto docid in intero\n",
    "    tmp[0] = int(tmp[0])\n",
    "    firstList.append(tmp)\n",
    "    print(tmp)\n",
    "\n",
    "    # Esco, non ho mica voglia di farli tutti ora\n",
    "    i += 1\n",
    "    if i == 3:\n",
    "        break"
   ]
  },
  {
   "cell_type": "code",
   "execution_count": 49,
   "metadata": {},
   "outputs": [],
   "source": [
    "def preprocess(text: str) -> str:\n",
    "    \"\"\" Rimuove caratteri speciali e mette lowercase\"\"\"\n",
    "    lower = text.lower()\n",
    "    charRemoval = re.sub(r'[.\\-:;!?\\n]',' ', lower)\n",
    "    return charRemoval"
   ]
  },
  {
   "cell_type": "code",
   "execution_count": 50,
   "metadata": {},
   "outputs": [
    {
     "name": "stdout",
     "output_type": "stream",
     "text": [
      "[0, 'the presence of communication amid scientific minds was equally important to the success of the manhattan project as scientific intellect was  the only cloud hanging over the impressive achievement of the atomic researchers and engineers is what their success truly meant  hundreds of thousands of innocent lives obliterated  ']\n",
      "[1, 'the manhattan project and its atomic bomb helped bring an end to world war ii  its legacy of peaceful uses of atomic energy continues to have an impact on history and science  ']\n",
      "[2, 'essay on the manhattan project   the manhattan project the manhattan project was to see if making an atomic bomb possible  the success of this project would forever change the world forever making it known that something this powerful can be manmade  ']\n"
     ]
    }
   ],
   "source": [
    "# Proviamo a preprocessare giusto 'ste 3 righe\n",
    "secondList = list()\n",
    "for line in firstList:\n",
    "    # Preprocesso giusto il testo\n",
    "    secondList.append([line[0], preprocess(line[1])])\n",
    "    \n",
    "for l in secondList:\n",
    "    print(l)"
   ]
  },
  {
   "cell_type": "code",
   "execution_count": 52,
   "metadata": {},
   "outputs": [],
   "source": [
    "def vocabularize(text: str) -> Dict[str, int]:\n",
    "    \"\"\"Crea un vocabolario e le occorrenze di parola\"\"\"\n",
    "    splitted = text.split(' ')\n",
    "    lexicon = dict()\n",
    "    for word in splitted:\n",
    "        if word == '':\n",
    "            continue\n",
    "        if lexicon.get(word) == None:\n",
    "            lexicon[word] = 1\n",
    "        else:\n",
    "            lexicon[word] += 1\n",
    "    return lexicon"
   ]
  },
  {
   "cell_type": "code",
   "execution_count": 53,
   "metadata": {},
   "outputs": [
    {
     "name": "stdout",
     "output_type": "stream",
     "text": [
      "[0, {'the': 6, 'presence': 1, 'of': 5, 'communication': 1, 'amid': 1, 'scientific': 2, 'minds': 1, 'was': 2, 'equally': 1, 'important': 1, 'to': 1, 'success': 2, 'manhattan': 1, 'project': 1, 'as': 1, 'intellect': 1, 'only': 1, 'cloud': 1, 'hanging': 1, 'over': 1, 'impressive': 1, 'achievement': 1, 'atomic': 1, 'researchers': 1, 'and': 1, 'engineers': 1, 'is': 1, 'what': 1, 'their': 1, 'truly': 1, 'meant': 1, 'hundreds': 1, 'thousands': 1, 'innocent': 1, 'lives': 1, 'obliterated': 1}]\n",
      "[1, {'the': 1, 'manhattan': 1, 'project': 1, 'and': 2, 'its': 2, 'atomic': 2, 'bomb': 1, 'helped': 1, 'bring': 1, 'an': 2, 'end': 1, 'to': 2, 'world': 1, 'war': 1, 'ii': 1, 'legacy': 1, 'of': 2, 'peaceful': 1, 'uses': 1, 'energy': 1, 'continues': 1, 'have': 1, 'impact': 1, 'on': 1, 'history': 1, 'science': 1}]\n",
      "[2, {'essay': 1, 'on': 1, 'the': 5, 'manhattan': 3, 'project': 4, 'was': 1, 'to': 1, 'see': 1, 'if': 1, 'making': 2, 'an': 1, 'atomic': 1, 'bomb': 1, 'possible': 1, 'success': 1, 'of': 1, 'this': 2, 'would': 1, 'forever': 2, 'change': 1, 'world': 1, 'it': 1, 'known': 1, 'that': 1, 'something': 1, 'powerful': 1, 'can': 1, 'be': 1, 'manmade': 1}]\n"
     ]
    }
   ],
   "source": [
    "vocab = list()\n",
    "# Per ogni docid, crea un vocabolario di termini contenuti\n",
    "# NB: se non si vogliono le Stopword, bisogna toglierle nel PREPROCESSING\n",
    "for line in secondList:\n",
    "    vocab.append([line[0], vocabularize(line[1])])\n",
    "\n",
    "for elem in vocab:\n",
    "    print(elem)"
   ]
  }
 ],
 "metadata": {
  "kernelspec": {
   "display_name": "Python 3",
   "language": "python",
   "name": "python3"
  },
  "language_info": {
   "codemirror_mode": {
    "name": "ipython",
    "version": 3
   },
   "file_extension": ".py",
   "mimetype": "text/x-python",
   "name": "python",
   "nbconvert_exporter": "python",
   "pygments_lexer": "ipython3",
   "version": "3.10.12"
  },
  "orig_nbformat": 4
 },
 "nbformat": 4,
 "nbformat_minor": 2
}
