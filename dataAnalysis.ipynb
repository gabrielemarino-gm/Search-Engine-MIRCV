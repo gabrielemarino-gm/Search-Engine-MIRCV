{
 "cells": [
  {
   "cell_type": "code",
   "execution_count": 1,
   "id": "initial_id",
   "metadata": {
    "collapsed": true
   },
   "outputs": [],
   "source": [
    "import pandas as pd\n",
    "import numpy as np\n",
    "import matplotlib.pyplot as plt"
   ]
  },
  {
   "cell_type": "code",
   "execution_count": 2,
   "id": "a615ecdc",
   "metadata": {},
   "outputs": [
    {
     "data": {
      "text/html": [
       "<div>\n",
       "<style scoped>\n",
       "    .dataframe tbody tr th:only-of-type {\n",
       "        vertical-align: middle;\n",
       "    }\n",
       "\n",
       "    .dataframe tbody tr th {\n",
       "        vertical-align: top;\n",
       "    }\n",
       "\n",
       "    .dataframe thead th {\n",
       "        text-align: right;\n",
       "    }\n",
       "</style>\n",
       "<table border=\"1\" class=\"dataframe\">\n",
       "  <thead>\n",
       "    <tr style=\"text-align: right;\">\n",
       "      <th></th>\n",
       "      <th>query_id</th>\n",
       "      <th>elapsed_time</th>\n",
       "      <th>n_token</th>\n",
       "      <th>algorithm</th>\n",
       "    </tr>\n",
       "  </thead>\n",
       "  <tbody>\n",
       "    <tr>\n",
       "      <th>0</th>\n",
       "      <td>1030303</td>\n",
       "      <td>26</td>\n",
       "      <td>2</td>\n",
       "      <td>DAAT</td>\n",
       "    </tr>\n",
       "    <tr>\n",
       "      <th>1</th>\n",
       "      <td>1030303</td>\n",
       "      <td>5</td>\n",
       "      <td>2</td>\n",
       "      <td>MAXSCORE</td>\n",
       "    </tr>\n",
       "    <tr>\n",
       "      <th>2</th>\n",
       "      <td>1037496</td>\n",
       "      <td>34</td>\n",
       "      <td>2</td>\n",
       "      <td>DAAT</td>\n",
       "    </tr>\n",
       "    <tr>\n",
       "      <th>3</th>\n",
       "      <td>1037496</td>\n",
       "      <td>29</td>\n",
       "      <td>2</td>\n",
       "      <td>MAXSCORE</td>\n",
       "    </tr>\n",
       "    <tr>\n",
       "      <th>4</th>\n",
       "      <td>1043135</td>\n",
       "      <td>74</td>\n",
       "      <td>4</td>\n",
       "      <td>DAAT</td>\n",
       "    </tr>\n",
       "    <tr>\n",
       "      <th>...</th>\n",
       "      <td>...</td>\n",
       "      <td>...</td>\n",
       "      <td>...</td>\n",
       "      <td>...</td>\n",
       "    </tr>\n",
       "    <tr>\n",
       "      <th>395</th>\n",
       "      <td>997622</td>\n",
       "      <td>133</td>\n",
       "      <td>2</td>\n",
       "      <td>MAXSCORE</td>\n",
       "    </tr>\n",
       "    <tr>\n",
       "      <th>396</th>\n",
       "      <td>999466</td>\n",
       "      <td>3</td>\n",
       "      <td>1</td>\n",
       "      <td>DAAT</td>\n",
       "    </tr>\n",
       "    <tr>\n",
       "      <th>397</th>\n",
       "      <td>999466</td>\n",
       "      <td>0</td>\n",
       "      <td>1</td>\n",
       "      <td>MAXSCORE</td>\n",
       "    </tr>\n",
       "    <tr>\n",
       "      <th>398</th>\n",
       "      <td>132622</td>\n",
       "      <td>58</td>\n",
       "      <td>3</td>\n",
       "      <td>DAAT</td>\n",
       "    </tr>\n",
       "    <tr>\n",
       "      <th>399</th>\n",
       "      <td>132622</td>\n",
       "      <td>308</td>\n",
       "      <td>3</td>\n",
       "      <td>MAXSCORE</td>\n",
       "    </tr>\n",
       "  </tbody>\n",
       "</table>\n",
       "<p>400 rows × 4 columns</p>\n",
       "</div>"
      ],
      "text/plain": [
       "     query_id  elapsed_time  n_token algorithm\n",
       "0     1030303            26        2      DAAT\n",
       "1     1030303             5        2  MAXSCORE\n",
       "2     1037496            34        2      DAAT\n",
       "3     1037496            29        2  MAXSCORE\n",
       "4     1043135            74        4      DAAT\n",
       "..        ...           ...      ...       ...\n",
       "395    997622           133        2  MAXSCORE\n",
       "396    999466             3        1      DAAT\n",
       "397    999466             0        1  MAXSCORE\n",
       "398    132622            58        3      DAAT\n",
       "399    132622           308        3  MAXSCORE\n",
       "\n",
       "[400 rows x 4 columns]"
      ]
     },
     "execution_count": 2,
     "metadata": {},
     "output_type": "execute_result"
    }
   ],
   "source": [
    "# Read in the data from csv to pandas dataframe\n",
    "pathData = 'Search-Java/data/dataset/resultsDataset.csv'\n",
    "df = pd.read_csv(pathData, sep=',', header=0)\n",
    "df"
   ]
  },
  {
   "cell_type": "code",
   "execution_count": 3,
   "id": "fea048fd",
   "metadata": {},
   "outputs": [
    {
     "name": "stdout",
     "output_type": "stream",
     "text": [
      "Mean of DAAT:  75.655\n",
      "Mean of MAXSCORE:  245.66\n"
     ]
    }
   ],
   "source": [
    "# Calculate the mean of the elapsed_time column with algorithm DAAT\n",
    "dfDAAT = df[df['algorithm'] == 'DAAT']\n",
    "meanDAAT = dfDAAT['elapsed_time'].mean()\n",
    "print(\"Mean of DAAT: \", meanDAAT)\n",
    "\n",
    "# Calculate the mean of the elapsed_time column with algorithm MAXSCORE\n",
    "dfMAXSCORE = df[df['algorithm'] == 'MAXSCORE']\n",
    "meanMAXSCORE = dfMAXSCORE['elapsed_time'].mean()\n",
    "print(\"Mean of MAXSCORE: \", meanMAXSCORE)"
   ]
  },
  {
   "cell_type": "code",
   "execution_count": 4,
   "id": "24064df8",
   "metadata": {},
   "outputs": [
    {
     "name": "stdout",
     "output_type": "stream",
     "text": [
      "Variance of DAAT:  4504.086407035176\n",
      "Variance of MAXSCORE:  32216.486834170857\n"
     ]
    }
   ],
   "source": [
    "# Calculate the variance of the elapsed_time column with algorithm DAAT\n",
    "varDAAT = dfDAAT['elapsed_time'].var()\n",
    "print(\"Variance of DAAT: \", varDAAT)\n",
    "\n",
    "# Calculate the variance of the elapsed_time column with algorithm MAXSCORE\n",
    "varMAXSCORE = dfMAXSCORE['elapsed_time'].var()\n",
    "print(\"Variance of MAXSCORE: \", varMAXSCORE)"
   ]
  },
  {
   "cell_type": "code",
   "execution_count": 5,
   "id": "f9ec90fc",
   "metadata": {},
   "outputs": [
    {
     "name": "stdout",
     "output_type": "stream",
     "text": [
      "Standard deviation of DAAT:  67.11249069312788\n",
      "Standard deviation of MAXSCORE:  179.48951733784025\n"
     ]
    }
   ],
   "source": [
    "# Evaluate the standard deviation of the elapsed_time column with algorithm DAAT\n",
    "stdDAAT = dfDAAT['elapsed_time'].std()\n",
    "print(\"Standard deviation of DAAT: \", stdDAAT)\n",
    "\n",
    "# Evaluate the standard deviation of the elapsed_time column with algorithm MAXSCORE\n",
    "stdMAXSCORE = dfMAXSCORE['elapsed_time'].std()\n",
    "print(\"Standard deviation of MAXSCORE: \", stdMAXSCORE)"
   ]
  },
  {
   "cell_type": "code",
   "execution_count": 6,
   "id": "6637e2f4",
   "metadata": {},
   "outputs": [
    {
     "name": "stdout",
     "output_type": "stream",
     "text": [
      "Max of DAAT:  465 ms, with query  273695\n",
      "Max of MAXSCORE:  1041 ms,  with query  273695\n"
     ]
    }
   ],
   "source": [
    "# Evaluate the max of the elapsed_time column with algorithm DAAT\n",
    "maxDAAT = dfDAAT['elapsed_time'].max()\n",
    "maxDAATQuery = dfDAAT[dfDAAT['elapsed_time'] == maxDAAT]\n",
    "print(\"Max of DAAT: \", maxDAAT, \"ms, with query \", maxDAATQuery.values[0][0])\n",
    "\n",
    "# Evaluate the max of the elapsed_time column with algorithm MAXSCORE\n",
    "maxMAXSCORE = dfMAXSCORE['elapsed_time'].max()\n",
    "maxMAXSCOREQuery = dfMAXSCORE[dfMAXSCORE['elapsed_time'] == maxMAXSCORE]\n",
    "print(\"Max of MAXSCORE: \", maxMAXSCORE, \"ms,  with query \", maxMAXSCOREQuery.values[0][0])"
   ]
  },
  {
   "cell_type": "code",
   "execution_count": 7,
   "id": "abdebde4",
   "metadata": {},
   "outputs": [
    {
     "data": {
      "image/png": "[encoded data removed]",
      "text/plain": [
       "<Figure size 640x480 with 1 Axes>"
      ]
     },
     "metadata": {},
     "output_type": "display_data"
    }
   ],
   "source": [
    "# Plot the elapsed_time column against the n_token column with algorithm DAAT\n",
    "dfDAAT.plot(x='n_token', y='elapsed_time', style='o')\n",
    "plt.title('DAAT')\n",
    "plt.xlabel('n_token')\n",
    "plt.ylabel('elapsed_time')\n",
    "plt.show()"
   ]
  },
  {
   "cell_type": "code",
   "execution_count": 8,
   "id": "6be3b3c0",
   "metadata": {},
   "outputs": [
    {
     "data": {
      "image/png": "[encoded data removed]",
      "text/plain": [
       "<Figure size 640x480 with 1 Axes>"
      ]
     },
     "metadata": {},
     "output_type": "display_data"
    }
   ],
   "source": [
    "# Plot the elapsed_time column against the n_token column with algorithm MAXSCORE\n",
    "dfMAXSCORE.plot(x='n_token', y='elapsed_time', style='o')\n",
    "plt.title('MAXSCORE')\n",
    "plt.xlabel('n_token')\n",
    "plt.ylabel('elapsed_time')\n",
    "plt.show()"
   ]
  }
 ],
 "metadata": {
  "kernelspec": {
   "display_name": "Python 3",
   "language": "python",
   "name": "python3"
  },
  "language_info": {
   "codemirror_mode": {
    "name": "ipython",
    "version": 3
   },
   "file_extension": ".py",
   "mimetype": "text/x-python",
   "name": "python",
   "nbconvert_exporter": "python",
   "pygments_lexer": "ipython3",
   "version": "3.10.6"
  }
 },
 "nbformat": 4,
 "nbformat_minor": 5
}
